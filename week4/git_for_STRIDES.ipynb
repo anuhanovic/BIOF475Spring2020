{
 "cells": [
  {
   "cell_type": "markdown",
   "metadata": {
    "slideshow": {
     "slide_type": "slide"
    }
   },
   "source": [
    "# Git for non-developers"
   ]
  },
  {
   "cell_type": "markdown",
   "metadata": {
    "slideshow": {
     "slide_type": "slide"
    }
   },
   "source": [
    "## Outline\n",
    "0. Ground Rules\n",
    "1. Why\n",
    "2. What\n",
    "        1. VCS/RCS/SCM\n",
    "        2. Distributed vs Client-Server\n",
    "        3. Git vs GitHub vs GitLab\n",
    "        4. History\n",
    "3. How (Demo)\n",
    "4. Takeaways\n",
    "5. Quiz\n",
    "6. Bonus"
   ]
  },
  {
   "cell_type": "markdown",
   "metadata": {
    "slideshow": {
     "slide_type": "slide"
    }
   },
   "source": [
    "## Ground Rules"
   ]
  },
  {
   "cell_type": "markdown",
   "metadata": {
    "slideshow": {
     "slide_type": "fragment"
    }
   },
   "source": [
    "- Interrupt (Please)"
   ]
  },
  {
   "cell_type": "markdown",
   "metadata": {
    "slideshow": {
     "slide_type": "fragment"
    }
   },
   "source": [
    "- My favorite thing in the whole world?"
   ]
  },
  {
   "cell_type": "markdown",
   "metadata": {
    "slideshow": {
     "slide_type": "fragment"
    }
   },
   "source": [
    "- Limitless Undo"
   ]
  },
  {
   "cell_type": "markdown",
   "metadata": {
    "slideshow": {
     "slide_type": "slide"
    }
   },
   "source": [
    "## Why"
   ]
  },
  {
   "cell_type": "markdown",
   "metadata": {
    "slideshow": {
     "slide_type": "fragment"
    }
   },
   "source": [
    "- Wiki definition"
   ]
  },
  {
   "cell_type": "markdown",
   "metadata": {
    "slideshow": {
     "slide_type": "fragment"
    }
   },
   "source": [
    "- Software devs, code but also scripts, but can be used for documentation, collaboration."
   ]
  },
  {
   "cell_type": "markdown",
   "metadata": {
    "slideshow": {
     "slide_type": "fragment"
    }
   },
   "source": [
    "- Hardest problem on the hardest test. Putnam. Shift in perspective.\n",
    "- https://lsusmath.rickmabry.org/psisson/putnam/putnam-web.htm"
   ]
  },
  {
   "cell_type": "markdown",
   "metadata": {
    "slideshow": {
     "slide_type": "subslide"
    }
   },
   "source": [
    "## Why (cont'd)"
   ]
  },
  {
   "cell_type": "markdown",
   "metadata": {
    "slideshow": {
     "slide_type": "fragment"
    }
   },
   "source": [
    "- Terrence Tao"
   ]
  },
  {
   "cell_type": "markdown",
   "metadata": {
    "slideshow": {
     "slide_type": "fragment"
    }
   },
   "source": [
    "- You should know how to use GitHub at the least, could use it for Kanban."
   ]
  },
  {
   "cell_type": "markdown",
   "metadata": {
    "slideshow": {
     "slide_type": "fragment"
    }
   },
   "source": [
    "- Like Google Docs, only for a spiderweb that always works offline, with intelligent merge process.\n",
    "- https://github.com/UofTCoders/studyGroup/blob/gh-pages/lessons/git/intro/philosophy_of_git.pdf"
   ]
  },
  {
   "cell_type": "markdown",
   "metadata": {
    "slideshow": {
     "slide_type": "slide"
    }
   },
   "source": [
    "## What"
   ]
  },
  {
   "cell_type": "markdown",
   "metadata": {
    "slideshow": {
     "slide_type": "fragment"
    }
   },
   "source": [
    "- VCS/RCS/SCM\n",
    "- Software? Web site/service?\n",
    "- Open source, instance(s), Repo (Monorepo)\n",
    "- Distributed vs Client-Server\n",
    "- What is the difference between Git and GitHub?\n",
    "- History (and why it is important)\n",
    "- Learn Git in 15 minutes https://try.github.io\n",
    "- Shorter https://git-scm.com/book/en/v2/Getting-Started-What-is-Git%3F\n",
    "- GitHub Pages, static vs dynamic sites\n",
    "- Mastering Markdown https://guides.github.com/features/mastering-markdown/\n",
    "- ML https://github.com/collections/machine-learning\n",
    "- IDE https://atom.io/ \n",
    "- Client https://desktop.github.com"
   ]
  },
  {
   "cell_type": "markdown",
   "metadata": {
    "slideshow": {
     "slide_type": "slide"
    }
   },
   "source": [
    "## How"
   ]
  },
  {
   "cell_type": "markdown",
   "metadata": {
    "slideshow": {
     "slide_type": "fragment"
    }
   },
   "source": [
    "1. CLI, SSH, keys\n",
    "2. IDE, login via browser\n",
    "3. GitHub\n",
    "        1. Private vs Protected vs Public\n",
    "        2. PR process"
   ]
  },
  {
   "cell_type": "markdown",
   "metadata": {
    "slideshow": {
     "slide_type": "subslide"
    }
   },
   "source": [
    "## Demo\n",
    "1. Repo vs Account\n",
    "2. Forking vs Cloning\n",
    "3. PR\n",
    "4. Age of open issues\n",
    "5. Hidden files\n",
    "6. Stateless is serverless\n",
    "7. CLI Demo https://www.katacoda.com/courses/git"
   ]
  },
  {
   "cell_type": "markdown",
   "metadata": {
    "slideshow": {
     "slide_type": "slide"
    }
   },
   "source": [
    "## Takeaways"
   ]
  },
  {
   "cell_type": "markdown",
   "metadata": {
    "slideshow": {
     "slide_type": "fragment"
    }
   },
   "source": [
    "1. READMEs"
   ]
  },
  {
   "cell_type": "markdown",
   "metadata": {
    "slideshow": {
     "slide_type": "fragment"
    }
   },
   "source": [
    "2. PR process"
   ]
  },
  {
   "cell_type": "markdown",
   "metadata": {
    "slideshow": {
     "slide_type": "fragment"
    }
   },
   "source": [
    "3. Be open (or Protected)"
   ]
  },
  {
   "cell_type": "markdown",
   "metadata": {
    "slideshow": {
     "slide_type": "fragment"
    }
   },
   "source": [
    "4. Unix philosophy (composability as over monolithic design)"
   ]
  },
  {
   "cell_type": "markdown",
   "metadata": {
    "slideshow": {
     "slide_type": "subslide"
    }
   },
   "source": [
    "## Takeaways (cont'd)"
   ]
  },
  {
   "cell_type": "markdown",
   "metadata": {
    "slideshow": {
     "slide_type": "fragment"
    }
   },
   "source": [
    "5. The Linus (Torvalds) law \"given enough eyeballs, all bugs are shallow” (Rubber ducks)"
   ]
  },
  {
   "cell_type": "markdown",
   "metadata": {
    "slideshow": {
     "slide_type": "fragment"
    }
   },
   "source": [
    "6. Design Considerations"
   ]
  },
  {
   "cell_type": "markdown",
   "metadata": {
    "slideshow": {
     "slide_type": "fragment"
    }
   },
   "source": [
    "7. There's more than one way to do it - Perl programming motto. (Zen of Python - Holy war)"
   ]
  },
  {
   "cell_type": "markdown",
   "metadata": {
    "slideshow": {
     "slide_type": "fragment"
    }
   },
   "source": [
    "8. Abstrations (leaky) & Value of proper implementation"
   ]
  },
  {
   "cell_type": "markdown",
   "metadata": {
    "slideshow": {
     "slide_type": "slide"
    }
   },
   "source": [
    "## Quiz"
   ]
  },
  {
   "cell_type": "markdown",
   "metadata": {
    "slideshow": {
     "slide_type": "subslide"
    }
   },
   "source": [
    "1. How would you fix a bug in git?\n",
    "2. Can you check in Jupyter notebooks in GitHub?"
   ]
  },
  {
   "cell_type": "markdown",
   "metadata": {
    "slideshow": {
     "slide_type": "fragment"
    }
   },
   "source": [
    "3. Why is GitLab better than GitHub?\n",
    "4. When should you host your own and what?"
   ]
  },
  {
   "cell_type": "markdown",
   "metadata": {
    "slideshow": {
     "slide_type": "slide"
    }
   },
   "source": [
    "## Bonus"
   ]
  },
  {
   "cell_type": "markdown",
   "metadata": {
    "slideshow": {
     "slide_type": "fragment"
    }
   },
   "source": [
    "- Gists - code sharing https://gist.github.com/\n",
    "- https://github.com/jupyter/jupyter/wiki/A-gallery-of-interesting-Jupyter-Notebooks\n",
    "- GitHub for Mobile, GitHub Actions\n",
    "- Checklist? "
   ]
  },
  {
   "cell_type": "markdown",
   "metadata": {
    "slideshow": {
     "slide_type": "subslide"
    }
   },
   "source": [
    "##### The Joel Test\n",
    "1. Do you use source control?\n",
    "2. Can you make a build in one step?\n",
    "3. Do you make daily builds?\n",
    "4. Do you have a bug database?\n",
    "5. Do you fix bugs before writing new code?\n",
    "6. Do you have an up-to-date schedule?\n",
    "7. Do you have a spec?\n",
    "8. Do programmers have quiet working conditions?\n",
    "9. Do you use the best tools money can buy?\n",
    "10. Do you have testers?\n",
    "11. Do new candidates write code during their interview?\n",
    "12. Do you do hallway usability testing?"
   ]
  },
  {
   "cell_type": "markdown",
   "metadata": {
    "slideshow": {
     "slide_type": "subslide"
    }
   },
   "source": [
    "##### The “Joel Test” for Data Science\n",
    "1. Can new hires get set up in the environment to run analyses on their first day?\n",
    "2. Can data scientists utilize the latest tools/packages without help from IT?\n",
    "3. Can data scientists use on-demand and scalable compute resources without help from IT/dev ops?\n",
    "4. Can data scientists find and reproduce past experiments and results, using the original code, data, parameters, and software versions?\n",
    "5. Does collaboration happen through a system other than email?\n",
    "6. Can predictive models be deployed to production without custom engineering or infrastructure work?\n",
    "7. Is there a single place to search for past research and reusable data sets, code, etc?\n",
    "8. Do your data scientists use the best tools money can buy?\n"
   ]
  }
 ],
 "metadata": {
  "celltoolbar": "Slideshow",
  "kernelspec": {
   "display_name": "Python 3",
   "language": "python",
   "name": "python3"
  },
  "language_info": {
   "codemirror_mode": {
    "name": "ipython",
    "version": 3
   },
   "file_extension": ".py",
   "mimetype": "text/x-python",
   "name": "python",
   "nbconvert_exporter": "python",
   "pygments_lexer": "ipython3",
   "version": "3.7.5"
  }
 },
 "nbformat": 4,
 "nbformat_minor": 2
}
